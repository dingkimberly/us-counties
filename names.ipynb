{
 "cells": [
  {
   "cell_type": "code",
   "execution_count": 15,
   "metadata": {
    "scrolled": true
   },
   "outputs": [],
   "source": [
    "import csv\n",
    "\n",
    "# county data: https://www2.census.gov/geo/docs/reference/county_adjacency.txt"
   ]
  },
  {
   "cell_type": "code",
   "execution_count": 16,
   "metadata": {
    "scrolled": true
   },
   "outputs": [],
   "source": [
    "with open('county_adjacency.txt', 'r', encoding='latin-1') as fp:\n",
    "    with open('fips_to_name.tsv', 'w') as tsvfile:\n",
    "        \n",
    "        name_to_fips = {}\n",
    "        writer = csv.writer(tsvfile, delimiter='\\t')\n",
    "        line = True\n",
    "\n",
    "        while line:\n",
    "            line = fp.readline()\n",
    "            tokens = line.strip().split('\\t')\n",
    "\n",
    "            if len(tokens) > 1: \n",
    "                name = tokens[0].strip('\\\"').replace('.','')\n",
    "                fips = tokens[1]\n",
    "                name_to_fips[name] = fips\n",
    "                writer.writerow([fips, name])"
   ]
  }
 ],
 "metadata": {
  "kernelspec": {
   "display_name": "Python 3",
   "language": "python",
   "name": "python3"
  },
  "language_info": {
   "codemirror_mode": {
    "name": "ipython",
    "version": 3
   },
   "file_extension": ".py",
   "mimetype": "text/x-python",
   "name": "python",
   "nbconvert_exporter": "python",
   "pygments_lexer": "ipython3",
   "version": "3.7.4"
  }
 },
 "nbformat": 4,
 "nbformat_minor": 2
}
